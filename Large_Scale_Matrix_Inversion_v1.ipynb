{
  "nbformat": 4,
  "nbformat_minor": 0,
  "metadata": {
    "colab": {
      "provenance": []
    },
    "kernelspec": {
      "name": "python3",
      "display_name": "Python 3"
    },
    "language_info": {
      "name": "python"
    }
  },
  "cells": [
    {
      "cell_type": "code",
      "execution_count": 1,
      "metadata": {
        "id": "rl2f3lzQqDm0"
      },
      "outputs": [],
      "source": [
        "import numpy as np\n"
      ]
    },
    {
      "cell_type": "code",
      "source": [
        "def LU_Decompose(A):\n",
        "    \"\"\"\n",
        "    Performs LU Decomposition on matrix A with partial pivoting.\n",
        "    Args:\n",
        "        A: The input matrix (n x n)\n",
        "    Returns:\n",
        "        L: The lower triangular matrix\n",
        "        U: The upper triangular matrix\n",
        "        P: The pivot matrix\n",
        "    \"\"\"\n",
        "    n = A.shape[0]\n",
        "    L = np.eye(n)\n",
        "    U = A.copy()\n",
        "    P = np.eye(n)\n",
        "\n",
        "    for k in range(n):\n",
        "        # Pivoting\n",
        "        max_row = np.argmax(abs(U[k:, k])) + k\n",
        "        if k != max_row:\n",
        "            U[[k, max_row]] = U[[max_row, k]]\n",
        "            P[[k, max_row]] = P[[max_row, k]]\n",
        "            if k > 0:\n",
        "                L[[k, max_row], :k] = L[[max_row, k], :k]\n",
        "\n",
        "        # LU Decomposition\n",
        "        for i in range(k + 1, n):\n",
        "            L[i, k] = U[i, k] / U[k, k]\n",
        "            U[i, k:] -= L[i, k] * U[k, k:]\n",
        "\n",
        "    return L, U, P\n"
      ],
      "metadata": {
        "id": "z7NJJ5UpqF7X"
      },
      "execution_count": 2,
      "outputs": []
    },
    {
      "cell_type": "code",
      "source": [
        "def getLU(LU_of_M):\n",
        "    \"\"\"\n",
        "    Compose the final LU matrices from the intermediate matrices.\n",
        "    Args:\n",
        "        LU_of_M: A tuple containing (L1_inv, S_hat, L3_inv, T, P1, P2)\n",
        "    Returns:\n",
        "        L_inv, U_inv, P: The final LU matrices\n",
        "    \"\"\"\n",
        "    L1_inv, S_hat, L3_inv, U1_inv, T, P1M2, U3_inv, P1, P2 = LU_of_M\n",
        "\n",
        "    # Construct the block matrix components for L_inv, U_inv, and P\n",
        "    S = P2 @ S_hat\n",
        "    # L_inv = np.block([[L1_inv, np.zeros_like(S_hat)],\n",
        "    #                   [-np.dot(L3_inv, S_hat), L3_inv]])\n",
        "    L_inv = np.block([[L1_inv, np.zeros_like(S_hat)],\n",
        "                      -L3_inv @ S, L3_inv])\n",
        "\n",
        "    # U_inv = np.block([[U1_inv, -np.dot(T, U3_inv)],\n",
        "    #                   [np.zeros_like(T), U3_inv]])\n",
        "    U_inv = np.block([[U1_inv, -T @ P1M2 @ U3_inv],\n",
        "                      [np.zeros_like(T), U3_inv]])\n",
        "\n",
        "    P = np.block([[P1, np.zeros_like(P2)],\n",
        "                  [np.zeros_like(P1), P2]])\n",
        "\n",
        "    return L_inv, U_inv, P\n"
      ],
      "metadata": {
        "id": "5LCeDHpUqRe0"
      },
      "execution_count": 10,
      "outputs": []
    },
    {
      "cell_type": "code",
      "source": [
        "def BlockLU_Decompose(M):\n",
        "    \"\"\"\n",
        "    Optimized Block-based LU Decomposition.\n",
        "    Args:\n",
        "        M: Input matrix to decompose\n",
        "    Returns:\n",
        "        LU_of_M: A tuple containing the intermediate LU decomposition matrices\n",
        "    \"\"\"\n",
        "    # Assuming M is a 2x2 block matrix\n",
        "    n = M.shape[0]\n",
        "    mid = n // 2\n",
        "\n",
        "    # Divide matrix M into sub-blocks\n",
        "    M1 = M[:mid, :mid]\n",
        "    M2 = M[:mid, mid:]\n",
        "    M3 = M[mid:, :mid]\n",
        "    M4 = M[mid:, mid:]\n",
        "\n",
        "    # Base case: when M1 is small enough to perform standard LU\n",
        "    M1Mid = M1.shape[0] // 2\n",
        "    if M1Mid <= 1:\n",
        "        L1, U1, P1 = LU_Decompose(M1)\n",
        "        L1_inv = np.linalg.inv(L1)\n",
        "        U1_inv = np.linalg.inv(U1)\n",
        "        T = U1_inv @ L1_inv\n",
        "        S_hat = M3 @ T\n",
        "        M_hat = M4 - S_hat @ (P1 @ M2)\n",
        "        L3, U3, P2 = LU_Decompose(M_hat)\n",
        "        L3_inv = np.linalg.inv(L3)\n",
        "        U3_inv = np.linalg.inv(U3)\n",
        "\n",
        "    else:\n",
        "        # Recursive decomposition\n",
        "        LU_of_M1 = BlockLU_Decompose(M1)\n",
        "        L1_inv, U1_inv, P1 = getLU(LU_of_M1)\n",
        "        T = U1_inv @ L1_inv\n",
        "        S_hat = M3 @ T\n",
        "        M_hat = M4 - S_hat @ (P1 @ M2)\n",
        "        LU_of_M_hat = BlockLU_Decompose(M_hat)\n",
        "        L3_inv, U3_inv, P2 = getLU(LU_of_M_hat)\n",
        "    return L1_inv, S_hat, L3_inv, U1_inv, T, P1@M2, U3_inv, P1, P2\n"
      ],
      "metadata": {
        "id": "aD-UWgQIqNWg"
      },
      "execution_count": 12,
      "outputs": []
    },
    {
      "cell_type": "code",
      "source": [
        "def BlockInverse(A):\n",
        "  n = A.shape[0]\n",
        "  mid = n//2\n",
        "  if mid <= 1:\n",
        "    return np.linalg.inv(A)\n",
        "  else:\n",
        "    A1 = A[:mid, :mid]\n",
        "    A2 = A[:mid, mid:]\n",
        "    A3 = A[mid:, :mid]\n",
        "    A4 = A[mid:, mid:]\n",
        "\n",
        "    LU_of_A = BlockLU_Decompose(A)\n",
        "    L1_inv, S_hat, L3_inv, U1_inv, T, P1A2, U3_inv, P1, P2 = LU_of_A\n",
        "    X1 = T @ P1\n",
        "    X2 = U3_inv @ L3_inv\n",
        "    Y1 = X1 @ A2\n",
        "    Y2 = X2 @ A3\n",
        "    A_inv_4 = X2\n",
        "    A_inv_3 = -Y2 @ X1\n",
        "    A_inv_2 = -Y1 @ X2\n",
        "    A_inv_1 = X1 - Y1 @ A_inv_3\n",
        "    return np.block([[A_inv_1, A_inv_2], [A_inv_3, A_inv_4]])\n",
        "    return A_inv"
      ],
      "metadata": {
        "id": "cZjNZoZTqQ0G"
      },
      "execution_count": 13,
      "outputs": []
    },
    {
      "cell_type": "code",
      "source": [
        "A = np.array([[1,2,3],[4,5,6],[7,2,9]], dtype=float)\n",
        "print(A)\n",
        "print(BlockInverse(A))"
      ],
      "metadata": {
        "colab": {
          "base_uri": "https://localhost:8080/"
        },
        "id": "CQJYtepNv-7U",
        "outputId": "98c8f1cc-dea6-4ddc-b9fb-63bb6d3538b1"
      },
      "execution_count": 19,
      "outputs": [
        {
          "output_type": "stream",
          "name": "stdout",
          "text": [
            "[[1. 2. 3.]\n",
            " [4. 5. 6.]\n",
            " [7. 2. 9.]]\n",
            "[[-0.91666667  0.33333333  0.08333333]\n",
            " [-0.16666667  0.33333333 -0.16666667]\n",
            " [ 0.75       -0.33333333  0.08333333]]\n"
          ]
        }
      ]
    },
    {
      "cell_type": "code",
      "source": [],
      "metadata": {
        "id": "tNlwmnTJyAn2"
      },
      "execution_count": null,
      "outputs": []
    }
  ]
}